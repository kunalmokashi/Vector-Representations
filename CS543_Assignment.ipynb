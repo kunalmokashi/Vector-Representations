{
  "nbformat": 4,
  "nbformat_minor": 0,
  "metadata": {
    "colab": {
      "name": "CS543_Assignment",
      "provenance": [],
      "collapsed_sections": []
    },
    "kernelspec": {
      "name": "python3",
      "display_name": "Python 3"
    }
  },
  "cells": [
    {
      "cell_type": "code",
      "metadata": {
        "id": "WCO7vh518CwF",
        "colab_type": "code",
        "outputId": "317239f0-5207-45f8-9a32-f18246084ee0",
        "colab": {
          "base_uri": "https://localhost:8080/",
          "height": 121
        }
      },
      "source": [
        "from google.colab import drive\n",
        "drive.mount('/content/drive')"
      ],
      "execution_count": 2,
      "outputs": [
        {
          "output_type": "stream",
          "text": [
            "Go to this URL in a browser: https://accounts.google.com/o/oauth2/auth?client_id=947318989803-6bn6qk8qdgf4n4g3pfee6491hc0brc4i.apps.googleusercontent.com&redirect_uri=urn%3aietf%3awg%3aoauth%3a2.0%3aoob&response_type=code&scope=email%20https%3a%2f%2fwww.googleapis.com%2fauth%2fdocs.test%20https%3a%2f%2fwww.googleapis.com%2fauth%2fdrive%20https%3a%2f%2fwww.googleapis.com%2fauth%2fdrive.photos.readonly%20https%3a%2f%2fwww.googleapis.com%2fauth%2fpeopleapi.readonly\n",
            "\n",
            "Enter your authorization code:\n",
            "··········\n",
            "Mounted at /content/drive\n"
          ],
          "name": "stdout"
        }
      ]
    },
    {
      "cell_type": "code",
      "metadata": {
        "id": "Noaeozuu_Q2k",
        "colab_type": "code",
        "colab": {}
      },
      "source": [
        "import numpy as np\n",
        "import math\n",
        "\n",
        "# Method to find the k-nearest neighbors for a given vector based on cosine similarity.\n",
        "def find_nearest_neighbors(word_dictionary, vector_1, k, vector_2=None):\n",
        "  result_dict = {}\n",
        "  if vector_2 is None:\n",
        "    for key, value in word_dictionary.items():\n",
        "      vector_2 = value\n",
        "      dot_prod = np.dot(vector_1, vector_2)\n",
        "      norm_vector_1 = math.sqrt(np.dot(vector_1, vector_1))\n",
        "      norm_vector_2 = math.sqrt(np.dot(vector_2, vector_2))\n",
        "      cosine_similarility  = dot_prod / (norm_vector_1 * norm_vector_2)\n",
        "      result_dict[key] = round(cosine_similarility, 3)\n",
        "    result_dict_sorted = sorted(result_dict.items(), key = lambda x : x[1], reverse=True)\n",
        "    return result_dict_sorted[1:k + 1]\n",
        "  else:\n",
        "    dot_prod = np.dot(vector_1, vector_2)\n",
        "    norm_vector_1 = math.sqrt(np.dot(vector_1, vector_1))\n",
        "    norm_vector_2 = math.sqrt(np.dot(vector_2, vector_2))\n",
        "    cosine_similarility  = dot_prod / (norm_vector_1 * norm_vector_2)\n",
        "    return cosine_similarility\n",
        "\n",
        "# Method to generate vector representation.\n",
        "def generate_vector_representation(word_dictionary, sentence):\n",
        "  split_arr = sentence.split(' ')\n",
        "  count = 0\n",
        "  combined_arr = []\n",
        "  for val in split_arr:\n",
        "    val_lower = val.lower()\n",
        "    if val_lower in word_dictionary:\n",
        "      vector = word_dictionary[val_lower]\n",
        "      combined_arr.append(vector)\n",
        "      count+= 1\n",
        "    else:\n",
        "      print(\"Ignoring the word since it is not found in the dictionary : \", val_lower)\n",
        "  result_arr = [sum(x)/count for x in zip(*combined_arr)]\n",
        "  return result_arr"
      ],
      "execution_count": 0,
      "outputs": []
    },
    {
      "cell_type": "code",
      "metadata": {
        "id": "lS2SYOzA_G4U",
        "colab_type": "code",
        "colab": {}
      },
      "source": [
        "if __name__ == '__main__':\n",
        "    # read the file.\n",
        "    input_file = \"/content/drive/My Drive/Colab Notebooks/glove.6B.300d.txt\"\n",
        "    word_dictionary = {}\n",
        "    with open(input_file, 'r', encoding='utf-8') as file:\n",
        "        for line in file:\n",
        "            arr = line.split(' ')\n",
        "            word_dictionary[arr[0]] = np.asfarray(arr[1:], float)"
      ],
      "execution_count": 0,
      "outputs": []
    },
    {
      "cell_type": "code",
      "metadata": {
        "id": "cfW2_FclInTi",
        "colab_type": "code",
        "colab": {}
      },
      "source": [
        "# Task 1.\n",
        "# Find nearest neighbors to the first name.\n",
        "task1_result = find_nearest_neighbors(word_dictionary, word_dictionary['kunal'], 5)"
      ],
      "execution_count": 0,
      "outputs": []
    },
    {
      "cell_type": "code",
      "metadata": {
        "id": "5OJqdxJLIu04",
        "colab_type": "code",
        "colab": {}
      },
      "source": [
        "# Task 2.\n",
        "# Find nearest neighbors to a sentence. First generate the vector for the sentence.\n",
        "sentence1 = \"People in US like football\"\n",
        "result_vector = generate_vector_representation(word_dictionary, sentence1)\n",
        "task2_result = find_nearest_neighbors(word_dictionary, result_vector, 5)"
      ],
      "execution_count": 0,
      "outputs": []
    },
    {
      "cell_type": "code",
      "metadata": {
        "id": "SYe-zFxKIx8i",
        "colab_type": "code",
        "colab": {}
      },
      "source": [
        "# Task 3.\n",
        "# Compare 2 sentences.\n",
        "# similar meaning\n",
        "sentence2 = \"Football is a popular sport in US\"\n",
        "result_vector_1 = generate_vector_representation(word_dictionary, sentence2)\n",
        "task3_result_1 = find_nearest_neighbors(word_dictionary, result_vector_1, 5, result_vector)\n",
        "\n",
        "# dissimilar meaning\n",
        "sentence3 = \"Computer Science coursework at Rutgers is excellent\"\n",
        "result_vector_2 = generate_vector_representation(word_dictionary, sentence3)\n",
        "task3_result_2 = find_nearest_neighbors(word_dictionary, result_vector_2, 5, result_vector)"
      ],
      "execution_count": 0,
      "outputs": []
    },
    {
      "cell_type": "markdown",
      "metadata": {
        "id": "BWQJVtTVGHUB",
        "colab_type": "text"
      },
      "source": [
        "**Output Task 1:**"
      ]
    },
    {
      "cell_type": "code",
      "metadata": {
        "id": "o0yXax3IGDDT",
        "colab_type": "code",
        "outputId": "3d039f5a-cc12-4d13-bb00-77e3221af04a",
        "colab": {
          "base_uri": "https://localhost:8080/",
          "height": 50
        }
      },
      "source": [
        "print(\"First Name :- kunal\")\n",
        "print(\"Nearest Neighbors :- \", task1_result)"
      ],
      "execution_count": 8,
      "outputs": [
        {
          "output_type": "stream",
          "text": [
            "First Name :- kunal\n",
            "Nearest Neighbors :-  [('siddharth', 0.483), ('neha', 0.477), ('kohli', 0.463), ('kapur', 0.462), ('abhay', 0.461)]\n"
          ],
          "name": "stdout"
        }
      ]
    },
    {
      "cell_type": "markdown",
      "metadata": {
        "id": "IJPtu7GiQJGw",
        "colab_type": "text"
      },
      "source": [
        "The 5 nearest neighbors for my First Name are shown above."
      ]
    },
    {
      "cell_type": "markdown",
      "metadata": {
        "id": "lWD-TrJuFzmJ",
        "colab_type": "text"
      },
      "source": [
        "**Output Task 2:**\n",
        "\n"
      ]
    },
    {
      "cell_type": "code",
      "metadata": {
        "id": "ytcI5bjIGc43",
        "colab_type": "code",
        "outputId": "e069cfce-284e-49a8-8d10-929b04644e8f",
        "colab": {
          "base_uri": "https://localhost:8080/",
          "height": 50
        }
      },
      "source": [
        "print(\"Sentence - \", sentence1)\n",
        "print(\"Nearest Neighbors to the sentence :- \", task2_result)"
      ],
      "execution_count": 9,
      "outputs": [
        {
          "output_type": "stream",
          "text": [
            "Sentence -  People in US like football\n",
            "Nearest Neighbors to the sentence :-  [('in', 0.731), ('well', 0.728), ('all', 0.721), ('just', 0.716), ('come', 0.71)]\n"
          ],
          "name": "stdout"
        }
      ]
    },
    {
      "cell_type": "markdown",
      "metadata": {
        "id": "484UEVOmQSqE",
        "colab_type": "text"
      },
      "source": [
        "The 5 nearest neighbors to 'Sentence1' i.e \"People in US like football\" are shown above."
      ]
    },
    {
      "cell_type": "markdown",
      "metadata": {
        "id": "ZOB4a3T_GwKb",
        "colab_type": "text"
      },
      "source": [
        "**Output Task 3:**"
      ]
    },
    {
      "cell_type": "code",
      "metadata": {
        "id": "LpjM1qGSGzcR",
        "colab_type": "code",
        "outputId": "0d0541c5-71fc-4d5b-fbd7-8fdffaf5c8e0",
        "colab": {
          "base_uri": "https://localhost:8080/",
          "height": 84
        }
      },
      "source": [
        "# Output for the similar meaning sentence.\n",
        "print(\"Sentence 2 :- \", sentence2)\n",
        "print(\"Cosine similarity score with Sentence 1 :- \", task3_result_1)\n",
        "\n",
        "# Output for the dissimilar meaning sentence.\n",
        "print(\"Sentence 3 :- \", sentence3)\n",
        "print(\"Cosine similarity score with Sentence 1 :- \", task3_result_2)\n"
      ],
      "execution_count": 10,
      "outputs": [
        {
          "output_type": "stream",
          "text": [
            "Sentence 2 :-  Football is a popular sport in US\n",
            "Cosine similarity score with Sentence 1 :-  0.8705283433798667\n",
            "Sentence 3 :-  Computer Science coursework at Rutgers is excellent\n",
            "Cosine similarity score with Sentence 1 :-  0.4948363285260474\n"
          ],
          "name": "stdout"
        }
      ]
    },
    {
      "cell_type": "markdown",
      "metadata": {
        "id": "UGPE2i7aPeFK",
        "colab_type": "text"
      },
      "source": [
        "The cosine similarity values obtained above make sense as the 'Sentence1' and 'Sentence2' both talk about \"Football in United States\". So, the angle between the vectors representing these 2 sentences would be very small and the cosine similarity score should be high which is observed in the above results.(~0.87)\n",
        "\n",
        "Sentence1 talks about Football in United States whereas Sentence3 talks about the Computer Science coursework at Rutgers. The lower cosine similarity score in this case (~0.49) reflects that these 2 sentences are not similar to each other."
      ]
    }
  ]
}